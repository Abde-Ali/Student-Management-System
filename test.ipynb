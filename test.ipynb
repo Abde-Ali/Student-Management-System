{
 "cells": [
  {
   "cell_type": "code",
   "execution_count": 1,
   "metadata": {},
   "outputs": [],
   "source": [
    "import sqlite3"
   ]
  },
  {
   "cell_type": "markdown",
   "metadata": {},
   "source": [
    "for connecting with db"
   ]
  },
  {
   "cell_type": "code",
   "execution_count": 2,
   "metadata": {},
   "outputs": [],
   "source": [
    "conn = sqlite3.connect('sms.db')"
   ]
  },
  {
   "cell_type": "code",
   "execution_count": 3,
   "metadata": {},
   "outputs": [],
   "source": [
    "cur =conn.cursor()"
   ]
  },
  {
   "cell_type": "code",
   "execution_count": 5,
   "metadata": {},
   "outputs": [
    {
     "ename": "OperationalError",
     "evalue": "table student already exists",
     "output_type": "error",
     "traceback": [
      "\u001b[1;31m---------------------------------------------------------------------------\u001b[0m",
      "\u001b[1;31mOperationalError\u001b[0m                          Traceback (most recent call last)",
      "Cell \u001b[1;32mIn[5], line 1\u001b[0m\n\u001b[1;32m----> 1\u001b[0m \u001b[43mcur\u001b[49m\u001b[38;5;241;43m.\u001b[39;49m\u001b[43mexecute\u001b[49m\u001b[43m(\u001b[49m\u001b[38;5;124;43m'''\u001b[39;49m\n\u001b[0;32m      2\u001b[0m \u001b[38;5;124;43mCreate Table student(\u001b[39;49m\n\u001b[0;32m      3\u001b[0m \u001b[38;5;124;43m            SID INT,\u001b[39;49m\n\u001b[0;32m      4\u001b[0m \u001b[38;5;124;43m            SNAME CHAR(40),\u001b[39;49m\n\u001b[0;32m      5\u001b[0m \u001b[38;5;124;43m            EMAIL VARCHAR(60),\u001b[39;49m\n\u001b[0;32m      6\u001b[0m \u001b[38;5;124;43m            CITY CHAR(40)\u001b[39;49m\n\u001b[0;32m      7\u001b[0m \n\u001b[0;32m      8\u001b[0m \u001b[38;5;124;43m)\u001b[39;49m\n\u001b[0;32m      9\u001b[0m \u001b[38;5;124;43m'''\u001b[39;49m\u001b[43m)\u001b[49m\n\u001b[0;32m     11\u001b[0m conn\u001b[38;5;241m.\u001b[39mcommit()\n",
      "\u001b[1;31mOperationalError\u001b[0m: table student already exists"
     ]
    }
   ],
   "source": [
    "cur.execute('''\n",
    "Create Table student(\n",
    "            SID INT,\n",
    "            SNAME CHAR(40),\n",
    "            EMAIL VARCHAR(60),\n",
    "            CITY CHAR(40)\n",
    "\n",
    ")\n",
    "''')\n",
    "\n",
    "conn.commit()"
   ]
  },
  {
   "cell_type": "code",
   "execution_count": 9,
   "metadata": {},
   "outputs": [
    {
     "ename": "OperationalError",
     "evalue": "table Course already exists",
     "output_type": "error",
     "traceback": [
      "\u001b[1;31m---------------------------------------------------------------------------\u001b[0m",
      "\u001b[1;31mOperationalError\u001b[0m                          Traceback (most recent call last)",
      "Cell \u001b[1;32mIn[9], line 1\u001b[0m\n\u001b[1;32m----> 1\u001b[0m \u001b[43mcur\u001b[49m\u001b[38;5;241;43m.\u001b[39;49m\u001b[43mexecute\u001b[49m\u001b[43m(\u001b[49m\u001b[38;5;124;43m'''\u001b[39;49m\n\u001b[0;32m      2\u001b[0m \u001b[38;5;124;43mCreate Table Course(\u001b[39;49m\n\u001b[0;32m      3\u001b[0m \u001b[38;5;124;43m            CID INT,\u001b[39;49m\n\u001b[0;32m      4\u001b[0m \u001b[38;5;124;43m            CNAME CHAR(40),\u001b[39;49m\n\u001b[0;32m      5\u001b[0m \u001b[38;5;124;43m            SID INT,\u001b[39;49m\n\u001b[0;32m      6\u001b[0m \u001b[38;5;124;43m            Price Float\u001b[39;49m\n\u001b[0;32m      7\u001b[0m \n\u001b[0;32m      8\u001b[0m \u001b[38;5;124;43m)\u001b[39;49m\n\u001b[0;32m      9\u001b[0m \u001b[38;5;124;43m'''\u001b[39;49m\u001b[43m)\u001b[49m\n\u001b[0;32m     11\u001b[0m conn\u001b[38;5;241m.\u001b[39mcommit()\n",
      "\u001b[1;31mOperationalError\u001b[0m: table Course already exists"
     ]
    }
   ],
   "source": [
    "cur.execute('''\n",
    "Create Table Course(\n",
    "            CID INT,\n",
    "            CNAME CHAR(40),\n",
    "            SID INT,\n",
    "            Price Float\n",
    "\n",
    ")\n",
    "''')\n",
    "\n",
    "conn.commit()"
   ]
  },
  {
   "cell_type": "code",
   "execution_count": 8,
   "metadata": {},
   "outputs": [],
   "source": [
    "cur.execute('''\n",
    "Create Table Trans(\n",
    "            TID INT,\n",
    "            SID INT,\n",
    "            CID INT,\n",
    "            Method VARCHAR(40)\n",
    "\n",
    ")\n",
    "''')\n",
    "\n",
    "conn.commit()"
   ]
  },
  {
   "cell_type": "code",
   "execution_count": 2,
   "metadata": {},
   "outputs": [],
   "source": [
    "def studentdata(sid,sname=None,mail=None,city=None,change):\n",
    "    cur.co\n",
    "    \n",
    "    change = input('change')\n",
    "    for i in [sname,mail,city]:\n",
    "        if i == 'sname':\n",
    "            cur.execute(f'''\n",
    "                UPDATE {i} = {change}\n",
    "                where {sid} ={sid}\n",
    "                    ''')"
   ]
  },
  {
   "cell_type": "code",
   "execution_count": null,
   "metadata": {},
   "outputs": [],
   "source": [
    "def studentdata(sid=1)"
   ]
  },
  {
   "cell_type": "code",
   "execution_count": 7,
   "metadata": {},
   "outputs": [
    {
     "name": "stdout",
     "output_type": "stream",
     "text": [
      "\n",
      "        UPDATE STUDENT\n",
      "             SET sname = 'sname'\n",
      "             WHERE sid = 'sid'\n",
      "        \n",
      "\n",
      "        UPDATE STUDENT\n",
      "             SET city = 'city'\n",
      "             WHERE sid = 'sid'\n",
      "        \n",
      "\n",
      "        UPDATE STUDENT\n",
      "             SET email = 'email'\n",
      "             WHERE sid = 'sid'\n",
      "        \n"
     ]
    }
   ],
   "source": [
    "\n",
    "for key,value in update_data :\n",
    "    print(f'''\n",
    "        UPDATE STUDENT\n",
    "             SET {key} = '{value}'\n",
    "             WHERE sid = 'sid'\n",
    "        ''')        "
   ]
  },
  {
   "cell_type": "code",
   "execution_count": 8,
   "metadata": {},
   "outputs": [
    {
     "name": "stdout",
     "output_type": "stream",
     "text": [
      "=====Price Column Added Successfully=====\n"
     ]
    }
   ],
   "source": [
    "import sqlite3\n",
    "\n",
    "def add_price_column():\n",
    "    conn = sqlite3.connect('sms.db')\n",
    "    cur = conn.cursor()\n",
    "    cur.execute('''\n",
    "        ALTER TABLE COURSE\n",
    "        ADD COLUMN price REAL\n",
    "    ''')\n",
    "    conn.commit()\n",
    "    conn.close()\n",
    "    print(\"=====Price Column Added Successfully=====\")\n",
    "\n",
    "# Run this function once to add the price column\n",
    "add_price_column()"
   ]
  },
  {
   "cell_type": "code",
   "execution_count": null,
   "metadata": {},
   "outputs": [],
   "source": []
  }
 ],
 "metadata": {
  "kernelspec": {
   "display_name": "base",
   "language": "python",
   "name": "python3"
  },
  "language_info": {
   "codemirror_mode": {
    "name": "ipython",
    "version": 3
   },
   "file_extension": ".py",
   "mimetype": "text/x-python",
   "name": "python",
   "nbconvert_exporter": "python",
   "pygments_lexer": "ipython3",
   "version": "3.12.4"
  }
 },
 "nbformat": 4,
 "nbformat_minor": 2
}
